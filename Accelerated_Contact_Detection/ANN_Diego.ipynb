{
 "cells": [
  {
   "cell_type": "code",
   "execution_count": 41,
   "metadata": {},
   "outputs": [
    {
     "name": "stdout",
     "output_type": "stream",
     "text": [
      "Total data size (1% sample): 80000\n",
      "Training set size: 64000\n",
      "Test set size: 16000\n"
     ]
    }
   ],
   "source": [
    "import pandas as pd\n",
    "import glob\n",
    "import tensorflow as tf\n",
    "\n",
    "# Define the path where your CSV files are located\n",
    "csv_files_path = '../csv_files/*.csv'\n",
    "\n",
    "# Uncomment this section if you need to recreate a random 1% sample\n",
    "# data_frames = []\n",
    "# for file in glob.glob(csv_files_path):\n",
    "#     df = pd.read_csv(file, header=None)  # Load without headers\n",
    "#     if df.shape[1] == 7:                 # Ensure it has exactly 7 columns\n",
    "#         data_frames.append(df)           # Append if structure is correct\n",
    "#     else:\n",
    "#         print(f\"Skipping file {file} due to unexpected number of columns: {df.shape[1]}\")\n",
    "# \n",
    "# # Concatenate all valid DataFrames\n",
    "# all_data = pd.concat(data_frames, ignore_index=True)\n",
    "# \n",
    "# # Assign column names\n",
    "# all_data.columns = ['x', 'y', 'z', 'p_id', 'xi1', 'xi2', 'gn']\n",
    "# \n",
    "# # Drop any rows with NaN values\n",
    "# all_data.dropna(inplace=True)\n",
    "# \n",
    "# # Randomly sample 1% of the data\n",
    "# sampled_data = all_data.sample(frac=0.01, random_state=42)\n",
    "# \n",
    "# # Save the sample\n",
    "# sampled_data.to_csv('sampled_data_1_percent.csv', index=False)\n",
    "\n",
    "# Load the pre-saved 1% sampled data\n",
    "sampled_data = pd.read_csv('sampled_data_1_percent.csv')\n",
    "\n",
    "# Split into features (x, y, z) and labels (p_id, gn, xi1, xi2)\n",
    "features = sampled_data[['x', 'y', 'z']].values\n",
    "labels = sampled_data[['p_id', 'xi1', 'xi2', 'gn']].values\n",
    "\n",
    "# Convert to TensorFlow dataset with (features, labels) tuples\n",
    "sampled_data = tf.data.Dataset.from_tensor_slices((features, labels))\n",
    "\n",
    "# Define the split ratio (80% train, 20% test)\n",
    "train_size = int(0.8 * len(sampled_data))\n",
    "train_data = sampled_data.take(train_size)\n",
    "test_data = sampled_data.skip(train_size)\n",
    "\n",
    "# Print dataset sizes to confirm\n",
    "print(f\"Total data size (1% sample): {len(sampled_data)}\")\n",
    "print(f\"Training set size: {len(train_data)}\")\n",
    "print(f\"Test set size: {len(test_data)}\")\n"
   ]
  },
  {
   "cell_type": "code",
   "execution_count": 42,
   "metadata": {},
   "outputs": [],
   "source": [
    "import tensorflow as tf\n",
    "\n",
    "def custom_loss(y_true, y_pred):\n",
    "    # y_true and y_pred shapes are both (batch_size, 288)\n",
    "    loss = 0\n",
    "    for i in range(96):  # Loop through each patch\n",
    "        p_id_true = y_true[:, i]      # True class label (one-hot encoded)\n",
    "        xi1_true = y_true[:, 96 + i]  # True xi1 value for patch i\n",
    "        xi2_true = y_true[:, 192 + i] # True xi2 value for patch i\n",
    "\n",
    "        p_id_pred = y_pred[:, i]      # Predicted probability for patch i\n",
    "        xi1_pred = y_pred[:, 96 + i]  # Predicted xi1 for patch i\n",
    "        xi2_pred = y_pred[:, 192 + i] # Predicted xi2 for patch i\n",
    "\n",
    "        # MSE loss for only the target patch\n",
    "        loss += tf.reduce_sum(p_id_true * (tf.square(p_id_true - p_id_pred) +\n",
    "                                           tf.square(xi1_true - xi1_pred) +\n",
    "                                           tf.square(xi2_true - xi2_pred)))\n",
    "    return loss\n"
   ]
  },
  {
   "cell_type": "code",
   "execution_count": 43,
   "metadata": {},
   "outputs": [
    {
     "name": "stdout",
     "output_type": "stream",
     "text": [
      "Features shape: (80000, 3)\n",
      "Labels shape: (80000, 4)\n",
      "Batch features: [[-2.91718906  1.73263867  0.97019972]\n",
      " [ 0.87133129 -1.03767129  0.91796048]\n",
      " [-0.02844229  0.34748369 -0.2313029 ]\n",
      " [-1.92270247 -1.33716426 -2.60818852]\n",
      " [ 2.62352195 -2.1233333   1.93662574]\n",
      " [-0.97557238  2.96804717 -1.85071948]\n",
      " [-0.26522482  2.89317393 -0.12682441]\n",
      " [-2.06477198  0.04799072  1.44035292]\n",
      " [ 3.76007805  2.55624434 -1.45892515]\n",
      " [-2.20684149 -1.29972764  0.99631934]\n",
      " [-0.02844229 -1.14998115 -0.62309723]\n",
      " [ 1.81846137  0.04799072 -0.80593459]\n",
      " [ 2.48145243  0.04799072  1.93662574]\n",
      " [ 1.81846137 -0.55099521  0.10825219]\n",
      " [ 0.11362722 -0.58843183 -1.11937006]\n",
      " [ 1.34489633 -3.20899531 -0.64921686]\n",
      " [ 1.96053089  3.49215986  0.89184085]\n",
      " [ 4.04421708  3.15523027 -0.4663795 ]\n",
      " [-3.81696264 -1.82384033 -0.88429346]\n",
      " [ 3.09708699 -1.89871357 -1.45892515]\n",
      " [ 1.20282682 -0.92536142 -1.85071948]\n",
      " [ 1.62903536 -3.20899531 -1.8768391 ]\n",
      " [ 2.95501748  3.45472324 -1.24996817]\n",
      " [ 2.52880894  1.9572584   1.96274536]\n",
      " [ 1.20282682 -0.10175576  0.83960161]\n",
      " [ 2.67087845 -2.27307978 -1.38056628]\n",
      " [-0.21786831 -2.3105164   2.5896163 ]\n",
      " [ 3.71272155  2.10700488  0.10825219]\n",
      " [ 0.91868779 -3.02181221  2.27618083]\n",
      " [ 0.30305324 -2.94693896 -0.2313029 ]\n",
      " [-3.01190207  0.68441328  2.1194631 ]\n",
      " [ 1.62903536 -1.86127695  2.06722385]]\n",
      "Batch labels: [[ 6.40000000e+01  4.39895552e-01  9.78452901e-02  6.74067859e-01]\n",
      " [ 8.90000000e+01  2.01576955e-03 -6.10210291e-01  5.14375053e-01]\n",
      " [ 3.70000000e+01  9.57699557e-01 -1.74339499e+00  9.12214492e-01]\n",
      " [ 3.40000000e+01  9.48298770e-01  9.98735161e-01  9.57782793e-01]\n",
      " [ 4.80000000e+01  1.22587279e-01  9.11803546e-01  2.82082963e-01]\n",
      " [ 1.10000000e+01  3.37756321e-01  6.89872771e-01  5.51687432e-01]\n",
      " [ 1.00000000e+01  8.49876307e-01 -1.08309006e-01  3.88586619e-01]\n",
      " [ 8.70000000e+01  1.52265146e-01 -3.56980415e-01  6.55097572e-01]\n",
      " [ 1.60000000e+01  2.47762466e-01  1.08433003e+00  9.14320046e-01]\n",
      " [ 9.50000000e+01  3.48043899e-01 -3.63031482e-01  1.96299805e-01]\n",
      " [ 3.90000000e+01  2.33768138e-01 -1.19110322e+00  9.12566866e-01]\n",
      " [ 4.50000000e+01  4.40767310e-01 -9.24206615e-01  5.24063781e-01]\n",
      " [ 8.40000000e+01  1.23169615e-01  5.44826327e-01  6.16179257e-01]\n",
      " [ 8.80000000e+01  4.38584173e-01 -1.39606065e+00  7.40900507e-01]\n",
      " [ 3.80000000e+01  4.65254203e-01 -7.96663834e-01  9.97302864e-01]\n",
      " [ 5.40000000e+01  5.23256272e-01  4.79425444e-01  9.77953365e-02]\n",
      " [ 1.00000000e+00  1.15528859e-01  9.45083120e-01  8.69146779e-01]\n",
      " [ 2.00000000e+01  1.98881534e-01  1.50304318e+00  1.55790402e-01]\n",
      " [ 7.50000000e+01  2.18476509e-01  7.00058185e-01  7.07795043e-01]\n",
      " [ 1.90000000e+01  5.65623252e-01  6.59384124e-01  4.18596511e-01]\n",
      " [ 4.20000000e+01  8.26049050e-01 -3.62202323e-01  8.67041887e-01]\n",
      " [ 5.50000000e+01  6.55231733e-01  1.14546585e+00  4.05702649e-03]\n",
      " [ 2.00000000e+00  8.37092613e-01  1.20550319e+00  1.01662653e-01]\n",
      " [ 8.00000000e+01  6.65625535e-01  7.98627270e-01  7.76709942e-01]\n",
      " [ 8.90000000e+01  5.29035656e-01 -9.71066548e-01  9.63901542e-01]\n",
      " [ 5.10000000e+01  5.56126093e-01  5.85464823e-01  6.39615090e-02]\n",
      " [ 9.40000000e+01  7.06883976e-02  1.16752100e+00  8.56676355e-01]\n",
      " [ 2.00000000e+01  5.40149101e-01  8.04322193e-01  7.51295370e-01]\n",
      " [ 5.20000000e+01  1.07302783e-01  1.08056760e+00  3.02208674e-01]\n",
      " [ 5.40000000e+01  5.15676084e-02  1.75821289e-01  9.04466065e-01]\n",
      " [ 8.70000000e+01  4.46041736e-01  6.65143545e-01  1.87278185e-01]\n",
      " [ 9.20000000e+01  1.80854082e-01  4.18934966e-01  1.51087996e-01]]\n"
     ]
    }
   ],
   "source": [
    "# Verify the shapes of features and labels\n",
    "print(\"Features shape:\", features.shape)\n",
    "print(\"Labels shape:\", labels.shape)\n",
    "\n",
    "# Configure training and test data for batching and shuffling\n",
    "batch_size = 32\n",
    "train_data = train_data.batch(batch_size).shuffle(1000)\n",
    "test_data = test_data.batch(batch_size)\n",
    "\n",
    "# Display one batch to confirm\n",
    "for batch_features, batch_labels in train_data.take(1):\n",
    "    print(\"Batch features:\", batch_features.numpy())\n",
    "    print(\"Batch labels:\", batch_labels.numpy())\n"
   ]
  },
  {
   "cell_type": "code",
   "execution_count": 45,
   "metadata": {},
   "outputs": [
    {
     "data": {
      "text/html": [
       "<pre style=\"white-space:pre;overflow-x:auto;line-height:normal;font-family:Menlo,'DejaVu Sans Mono',consolas,'Courier New',monospace\"><span style=\"font-weight: bold\">Model: \"sequential_3\"</span>\n",
       "</pre>\n"
      ],
      "text/plain": [
       "\u001b[1mModel: \"sequential_3\"\u001b[0m\n"
      ]
     },
     "metadata": {},
     "output_type": "display_data"
    },
    {
     "data": {
      "text/html": [
       "<pre style=\"white-space:pre;overflow-x:auto;line-height:normal;font-family:Menlo,'DejaVu Sans Mono',consolas,'Courier New',monospace\">┏━━━━━━━━━━━━━━━━━━━━━━━━━━━━━━━━━┳━━━━━━━━━━━━━━━━━━━━━━━━┳━━━━━━━━━━━━━━━┓\n",
       "┃<span style=\"font-weight: bold\"> Layer (type)                    </span>┃<span style=\"font-weight: bold\"> Output Shape           </span>┃<span style=\"font-weight: bold\">       Param # </span>┃\n",
       "┡━━━━━━━━━━━━━━━━━━━━━━━━━━━━━━━━━╇━━━━━━━━━━━━━━━━━━━━━━━━╇━━━━━━━━━━━━━━━┩\n",
       "│ dense_8 (<span style=\"color: #0087ff; text-decoration-color: #0087ff\">Dense</span>)                 │ (<span style=\"color: #00d7ff; text-decoration-color: #00d7ff\">None</span>, <span style=\"color: #00af00; text-decoration-color: #00af00\">128</span>)            │           <span style=\"color: #00af00; text-decoration-color: #00af00\">512</span> │\n",
       "├─────────────────────────────────┼────────────────────────┼───────────────┤\n",
       "│ dense_9 (<span style=\"color: #0087ff; text-decoration-color: #0087ff\">Dense</span>)                 │ (<span style=\"color: #00d7ff; text-decoration-color: #00d7ff\">None</span>, <span style=\"color: #00af00; text-decoration-color: #00af00\">512</span>)            │        <span style=\"color: #00af00; text-decoration-color: #00af00\">66,048</span> │\n",
       "├─────────────────────────────────┼────────────────────────┼───────────────┤\n",
       "│ reshape_3 (<span style=\"color: #0087ff; text-decoration-color: #0087ff\">Reshape</span>)             │ (<span style=\"color: #00d7ff; text-decoration-color: #00d7ff\">None</span>, <span style=\"color: #00af00; text-decoration-color: #00af00\">8</span>, <span style=\"color: #00af00; text-decoration-color: #00af00\">8</span>, <span style=\"color: #00af00; text-decoration-color: #00af00\">8</span>, <span style=\"color: #00af00; text-decoration-color: #00af00\">1</span>)     │             <span style=\"color: #00af00; text-decoration-color: #00af00\">0</span> │\n",
       "├─────────────────────────────────┼────────────────────────┼───────────────┤\n",
       "│ conv3d_1 (<span style=\"color: #0087ff; text-decoration-color: #0087ff\">Conv3D</span>)               │ (<span style=\"color: #00d7ff; text-decoration-color: #00d7ff\">None</span>, <span style=\"color: #00af00; text-decoration-color: #00af00\">8</span>, <span style=\"color: #00af00; text-decoration-color: #00af00\">8</span>, <span style=\"color: #00af00; text-decoration-color: #00af00\">8</span>, <span style=\"color: #00af00; text-decoration-color: #00af00\">96</span>)    │         <span style=\"color: #00af00; text-decoration-color: #00af00\">2,688</span> │\n",
       "├─────────────────────────────────┼────────────────────────┼───────────────┤\n",
       "│ max_pooling3d (<span style=\"color: #0087ff; text-decoration-color: #0087ff\">MaxPooling3D</span>)    │ (<span style=\"color: #00d7ff; text-decoration-color: #00d7ff\">None</span>, <span style=\"color: #00af00; text-decoration-color: #00af00\">4</span>, <span style=\"color: #00af00; text-decoration-color: #00af00\">4</span>, <span style=\"color: #00af00; text-decoration-color: #00af00\">4</span>, <span style=\"color: #00af00; text-decoration-color: #00af00\">96</span>)    │             <span style=\"color: #00af00; text-decoration-color: #00af00\">0</span> │\n",
       "├─────────────────────────────────┼────────────────────────┼───────────────┤\n",
       "│ flatten_2 (<span style=\"color: #0087ff; text-decoration-color: #0087ff\">Flatten</span>)             │ (<span style=\"color: #00d7ff; text-decoration-color: #00d7ff\">None</span>, <span style=\"color: #00af00; text-decoration-color: #00af00\">6144</span>)           │             <span style=\"color: #00af00; text-decoration-color: #00af00\">0</span> │\n",
       "├─────────────────────────────────┼────────────────────────┼───────────────┤\n",
       "│ dense_10 (<span style=\"color: #0087ff; text-decoration-color: #0087ff\">Dense</span>)                │ (<span style=\"color: #00d7ff; text-decoration-color: #00d7ff\">None</span>, <span style=\"color: #00af00; text-decoration-color: #00af00\">256</span>)            │     <span style=\"color: #00af00; text-decoration-color: #00af00\">1,573,120</span> │\n",
       "├─────────────────────────────────┼────────────────────────┼───────────────┤\n",
       "│ dropout_2 (<span style=\"color: #0087ff; text-decoration-color: #0087ff\">Dropout</span>)             │ (<span style=\"color: #00d7ff; text-decoration-color: #00d7ff\">None</span>, <span style=\"color: #00af00; text-decoration-color: #00af00\">256</span>)            │             <span style=\"color: #00af00; text-decoration-color: #00af00\">0</span> │\n",
       "├─────────────────────────────────┼────────────────────────┼───────────────┤\n",
       "│ dense_11 (<span style=\"color: #0087ff; text-decoration-color: #0087ff\">Dense</span>)                │ (<span style=\"color: #00d7ff; text-decoration-color: #00d7ff\">None</span>, <span style=\"color: #00af00; text-decoration-color: #00af00\">4</span>)              │         <span style=\"color: #00af00; text-decoration-color: #00af00\">1,028</span> │\n",
       "└─────────────────────────────────┴────────────────────────┴───────────────┘\n",
       "</pre>\n"
      ],
      "text/plain": [
       "┏━━━━━━━━━━━━━━━━━━━━━━━━━━━━━━━━━┳━━━━━━━━━━━━━━━━━━━━━━━━┳━━━━━━━━━━━━━━━┓\n",
       "┃\u001b[1m \u001b[0m\u001b[1mLayer (type)                   \u001b[0m\u001b[1m \u001b[0m┃\u001b[1m \u001b[0m\u001b[1mOutput Shape          \u001b[0m\u001b[1m \u001b[0m┃\u001b[1m \u001b[0m\u001b[1m      Param #\u001b[0m\u001b[1m \u001b[0m┃\n",
       "┡━━━━━━━━━━━━━━━━━━━━━━━━━━━━━━━━━╇━━━━━━━━━━━━━━━━━━━━━━━━╇━━━━━━━━━━━━━━━┩\n",
       "│ dense_8 (\u001b[38;5;33mDense\u001b[0m)                 │ (\u001b[38;5;45mNone\u001b[0m, \u001b[38;5;34m128\u001b[0m)            │           \u001b[38;5;34m512\u001b[0m │\n",
       "├─────────────────────────────────┼────────────────────────┼───────────────┤\n",
       "│ dense_9 (\u001b[38;5;33mDense\u001b[0m)                 │ (\u001b[38;5;45mNone\u001b[0m, \u001b[38;5;34m512\u001b[0m)            │        \u001b[38;5;34m66,048\u001b[0m │\n",
       "├─────────────────────────────────┼────────────────────────┼───────────────┤\n",
       "│ reshape_3 (\u001b[38;5;33mReshape\u001b[0m)             │ (\u001b[38;5;45mNone\u001b[0m, \u001b[38;5;34m8\u001b[0m, \u001b[38;5;34m8\u001b[0m, \u001b[38;5;34m8\u001b[0m, \u001b[38;5;34m1\u001b[0m)     │             \u001b[38;5;34m0\u001b[0m │\n",
       "├─────────────────────────────────┼────────────────────────┼───────────────┤\n",
       "│ conv3d_1 (\u001b[38;5;33mConv3D\u001b[0m)               │ (\u001b[38;5;45mNone\u001b[0m, \u001b[38;5;34m8\u001b[0m, \u001b[38;5;34m8\u001b[0m, \u001b[38;5;34m8\u001b[0m, \u001b[38;5;34m96\u001b[0m)    │         \u001b[38;5;34m2,688\u001b[0m │\n",
       "├─────────────────────────────────┼────────────────────────┼───────────────┤\n",
       "│ max_pooling3d (\u001b[38;5;33mMaxPooling3D\u001b[0m)    │ (\u001b[38;5;45mNone\u001b[0m, \u001b[38;5;34m4\u001b[0m, \u001b[38;5;34m4\u001b[0m, \u001b[38;5;34m4\u001b[0m, \u001b[38;5;34m96\u001b[0m)    │             \u001b[38;5;34m0\u001b[0m │\n",
       "├─────────────────────────────────┼────────────────────────┼───────────────┤\n",
       "│ flatten_2 (\u001b[38;5;33mFlatten\u001b[0m)             │ (\u001b[38;5;45mNone\u001b[0m, \u001b[38;5;34m6144\u001b[0m)           │             \u001b[38;5;34m0\u001b[0m │\n",
       "├─────────────────────────────────┼────────────────────────┼───────────────┤\n",
       "│ dense_10 (\u001b[38;5;33mDense\u001b[0m)                │ (\u001b[38;5;45mNone\u001b[0m, \u001b[38;5;34m256\u001b[0m)            │     \u001b[38;5;34m1,573,120\u001b[0m │\n",
       "├─────────────────────────────────┼────────────────────────┼───────────────┤\n",
       "│ dropout_2 (\u001b[38;5;33mDropout\u001b[0m)             │ (\u001b[38;5;45mNone\u001b[0m, \u001b[38;5;34m256\u001b[0m)            │             \u001b[38;5;34m0\u001b[0m │\n",
       "├─────────────────────────────────┼────────────────────────┼───────────────┤\n",
       "│ dense_11 (\u001b[38;5;33mDense\u001b[0m)                │ (\u001b[38;5;45mNone\u001b[0m, \u001b[38;5;34m4\u001b[0m)              │         \u001b[38;5;34m1,028\u001b[0m │\n",
       "└─────────────────────────────────┴────────────────────────┴───────────────┘\n"
      ]
     },
     "metadata": {},
     "output_type": "display_data"
    },
    {
     "data": {
      "text/html": [
       "<pre style=\"white-space:pre;overflow-x:auto;line-height:normal;font-family:Menlo,'DejaVu Sans Mono',consolas,'Courier New',monospace\"><span style=\"font-weight: bold\"> Total params: </span><span style=\"color: #00af00; text-decoration-color: #00af00\">1,643,396</span> (6.27 MB)\n",
       "</pre>\n"
      ],
      "text/plain": [
       "\u001b[1m Total params: \u001b[0m\u001b[38;5;34m1,643,396\u001b[0m (6.27 MB)\n"
      ]
     },
     "metadata": {},
     "output_type": "display_data"
    },
    {
     "data": {
      "text/html": [
       "<pre style=\"white-space:pre;overflow-x:auto;line-height:normal;font-family:Menlo,'DejaVu Sans Mono',consolas,'Courier New',monospace\"><span style=\"font-weight: bold\"> Trainable params: </span><span style=\"color: #00af00; text-decoration-color: #00af00\">1,643,396</span> (6.27 MB)\n",
       "</pre>\n"
      ],
      "text/plain": [
       "\u001b[1m Trainable params: \u001b[0m\u001b[38;5;34m1,643,396\u001b[0m (6.27 MB)\n"
      ]
     },
     "metadata": {},
     "output_type": "display_data"
    },
    {
     "data": {
      "text/html": [
       "<pre style=\"white-space:pre;overflow-x:auto;line-height:normal;font-family:Menlo,'DejaVu Sans Mono',consolas,'Courier New',monospace\"><span style=\"font-weight: bold\"> Non-trainable params: </span><span style=\"color: #00af00; text-decoration-color: #00af00\">0</span> (0.00 B)\n",
       "</pre>\n"
      ],
      "text/plain": [
       "\u001b[1m Non-trainable params: \u001b[0m\u001b[38;5;34m0\u001b[0m (0.00 B)\n"
      ]
     },
     "metadata": {},
     "output_type": "display_data"
    }
   ],
   "source": [
    "from tensorflow.keras import layers, models\n",
    "\n",
    "# Define the model architecture\n",
    "model = models.Sequential()\n",
    "\n",
    "# Input layer (assuming (x, y, z) as input)\n",
    "model.add(layers.Input(shape=(3,)))\n",
    "\n",
    "# Dense layer to increase dimensionality\n",
    "model.add(layers.Dense(128, activation='relu'))\n",
    "\n",
    "# Dense layer to increase dimensionality\n",
    "model.add(layers.Dense(512, activation='relu'))\n",
    "\n",
    "# # Reshape layer to prepare for convolutional layer (reshape to 16x8)\n",
    "# model.add(layers.Reshape((16, 8, 1)))  # Adjust dimensions if necessary\n",
    "\n",
    "# # 96 Convolutional filters to allow patch-specific feature learning\n",
    "# model.add(layers.Conv2D(96, kernel_size=(3, 3), activation='relu', padding='same'))\n",
    "\n",
    "# # Pooling layer to reduce dimensionality\n",
    "# model.add(layers.MaxPooling2D(pool_size=(2, 2)))\n",
    "\n",
    "# Reshape layer to prepare for convolutional layer (reshape to 16x8)\n",
    "model.add(layers.Reshape((8, 8, 8, 1)))  # Adjust dimensions if necessary\n",
    "\n",
    "# 96 Convolutional filters to allow patch-specific feature learning\n",
    "model.add(layers.Conv3D(96, kernel_size=(3, 3, 3), activation='relu', padding='same'))\n",
    "\n",
    "# Pooling layer to reduce dimensionality\n",
    "model.add(layers.MaxPooling3D(pool_size=(2, 2, 2)))\n",
    "\n",
    "# Flatten the output from the convolutional layers\n",
    "model.add(layers.Flatten())\n",
    "\n",
    "# Dense layer for further feature processing\n",
    "model.add(layers.Dense(256, activation='relu'))\n",
    "model.add(layers.Dropout(0.3))  # Regularization to prevent overfitting\n",
    "\n",
    "# Output layer with 4 outputs: (p_id, gn, xi1, xi2)\n",
    "model.add(layers.Dense(4, activation=None))\n",
    "\n",
    "# Compile the model\n",
    "model.compile(optimizer='adam', loss='mse', metrics=['mae'])\n",
    "\n",
    "# Display the model summary\n",
    "model.summary()\n"
   ]
  },
  {
   "cell_type": "code",
   "execution_count": 46,
   "metadata": {},
   "outputs": [
    {
     "name": "stdout",
     "output_type": "stream",
     "text": [
      "Epoch 1/20\n",
      "\u001b[1m2000/2000\u001b[0m \u001b[32m━━━━━━━━━━━━━━━━━━━━\u001b[0m\u001b[37m\u001b[0m \u001b[1m35s\u001b[0m 17ms/step - loss: 82.3147 - mae: 3.9263 - val_loss: 20.2049 - val_mae: 1.7549\n",
      "Epoch 2/20\n",
      "\u001b[1m2000/2000\u001b[0m \u001b[32m━━━━━━━━━━━━━━━━━━━━\u001b[0m\u001b[37m\u001b[0m \u001b[1m34s\u001b[0m 17ms/step - loss: 22.2670 - mae: 1.9011 - val_loss: 17.6750 - val_mae: 1.5299\n",
      "Epoch 3/20\n",
      "\u001b[1m2000/2000\u001b[0m \u001b[32m━━━━━━━━━━━━━━━━━━━━\u001b[0m\u001b[37m\u001b[0m \u001b[1m34s\u001b[0m 17ms/step - loss: 18.6249 - mae: 1.6837 - val_loss: 15.1959 - val_mae: 1.4458\n",
      "Epoch 4/20\n",
      "\u001b[1m2000/2000\u001b[0m \u001b[32m━━━━━━━━━━━━━━━━━━━━\u001b[0m\u001b[37m\u001b[0m \u001b[1m34s\u001b[0m 17ms/step - loss: 16.8763 - mae: 1.5919 - val_loss: 13.6127 - val_mae: 1.2839\n",
      "Epoch 5/20\n",
      "\u001b[1m2000/2000\u001b[0m \u001b[32m━━━━━━━━━━━━━━━━━━━━\u001b[0m\u001b[37m\u001b[0m \u001b[1m35s\u001b[0m 17ms/step - loss: 15.4997 - mae: 1.5088 - val_loss: 12.3863 - val_mae: 1.1531\n",
      "Epoch 6/20\n",
      "\u001b[1m2000/2000\u001b[0m \u001b[32m━━━━━━━━━━━━━━━━━━━━\u001b[0m\u001b[37m\u001b[0m \u001b[1m34s\u001b[0m 17ms/step - loss: 14.3995 - mae: 1.4533 - val_loss: 11.8533 - val_mae: 1.2840\n",
      "Epoch 7/20\n",
      "\u001b[1m2000/2000\u001b[0m \u001b[32m━━━━━━━━━━━━━━━━━━━━\u001b[0m\u001b[37m\u001b[0m \u001b[1m35s\u001b[0m 18ms/step - loss: 13.5059 - mae: 1.3853 - val_loss: 10.1718 - val_mae: 1.0268\n",
      "Epoch 8/20\n",
      "\u001b[1m2000/2000\u001b[0m \u001b[32m━━━━━━━━━━━━━━━━━━━━\u001b[0m\u001b[37m\u001b[0m \u001b[1m35s\u001b[0m 18ms/step - loss: 12.9621 - mae: 1.3496 - val_loss: 9.5952 - val_mae: 1.0063\n",
      "Epoch 9/20\n",
      "\u001b[1m2000/2000\u001b[0m \u001b[32m━━━━━━━━━━━━━━━━━━━━\u001b[0m\u001b[37m\u001b[0m \u001b[1m35s\u001b[0m 17ms/step - loss: 12.1488 - mae: 1.3055 - val_loss: 10.2816 - val_mae: 1.1463\n",
      "Epoch 10/20\n",
      "\u001b[1m2000/2000\u001b[0m \u001b[32m━━━━━━━━━━━━━━━━━━━━\u001b[0m\u001b[37m\u001b[0m \u001b[1m34s\u001b[0m 17ms/step - loss: 11.9143 - mae: 1.2947 - val_loss: 8.6026 - val_mae: 0.9021\n",
      "Epoch 11/20\n",
      "\u001b[1m2000/2000\u001b[0m \u001b[32m━━━━━━━━━━━━━━━━━━━━\u001b[0m\u001b[37m\u001b[0m \u001b[1m33s\u001b[0m 16ms/step - loss: 11.8891 - mae: 1.2938 - val_loss: 7.7403 - val_mae: 0.8852\n",
      "Epoch 12/20\n",
      "\u001b[1m2000/2000\u001b[0m \u001b[32m━━━━━━━━━━━━━━━━━━━━\u001b[0m\u001b[37m\u001b[0m \u001b[1m32s\u001b[0m 16ms/step - loss: 11.3335 - mae: 1.2694 - val_loss: 9.6471 - val_mae: 1.0233\n",
      "Epoch 13/20\n",
      "\u001b[1m2000/2000\u001b[0m \u001b[32m━━━━━━━━━━━━━━━━━━━━\u001b[0m\u001b[37m\u001b[0m \u001b[1m35s\u001b[0m 17ms/step - loss: 11.5299 - mae: 1.2638 - val_loss: 9.6191 - val_mae: 1.0155\n",
      "Epoch 14/20\n",
      "\u001b[1m2000/2000\u001b[0m \u001b[32m━━━━━━━━━━━━━━━━━━━━\u001b[0m\u001b[37m\u001b[0m \u001b[1m33s\u001b[0m 17ms/step - loss: 11.0053 - mae: 1.2675 - val_loss: 8.1130 - val_mae: 0.9002\n",
      "Epoch 15/20\n",
      "\u001b[1m2000/2000\u001b[0m \u001b[32m━━━━━━━━━━━━━━━━━━━━\u001b[0m\u001b[37m\u001b[0m \u001b[1m33s\u001b[0m 17ms/step - loss: 10.7968 - mae: 1.2366 - val_loss: 8.0863 - val_mae: 0.9128\n",
      "Epoch 16/20\n",
      "\u001b[1m2000/2000\u001b[0m \u001b[32m━━━━━━━━━━━━━━━━━━━━\u001b[0m\u001b[37m\u001b[0m \u001b[1m34s\u001b[0m 17ms/step - loss: 10.7541 - mae: 1.2317 - val_loss: 10.0782 - val_mae: 1.1426\n",
      "Epoch 17/20\n",
      "\u001b[1m2000/2000\u001b[0m \u001b[32m━━━━━━━━━━━━━━━━━━━━\u001b[0m\u001b[37m\u001b[0m \u001b[1m32s\u001b[0m 16ms/step - loss: 10.2013 - mae: 1.2072 - val_loss: 8.0533 - val_mae: 0.9770\n",
      "Epoch 18/20\n",
      "\u001b[1m2000/2000\u001b[0m \u001b[32m━━━━━━━━━━━━━━━━━━━━\u001b[0m\u001b[37m\u001b[0m \u001b[1m32s\u001b[0m 16ms/step - loss: 10.2205 - mae: 1.2023 - val_loss: 7.4801 - val_mae: 0.8230\n",
      "Epoch 19/20\n",
      "\u001b[1m2000/2000\u001b[0m \u001b[32m━━━━━━━━━━━━━━━━━━━━\u001b[0m\u001b[37m\u001b[0m \u001b[1m33s\u001b[0m 17ms/step - loss: 10.5398 - mae: 1.2079 - val_loss: 7.0942 - val_mae: 0.8382\n",
      "Epoch 20/20\n",
      "\u001b[1m2000/2000\u001b[0m \u001b[32m━━━━━━━━━━━━━━━━━━━━\u001b[0m\u001b[37m\u001b[0m \u001b[1m32s\u001b[0m 16ms/step - loss: 10.1904 - mae: 1.1994 - val_loss: 8.5521 - val_mae: 0.8454\n"
     ]
    },
    {
     "data": {
      "image/png": "[encoded data removed]",
      "text/plain": [
       "<Figure size 432x288 with 1 Axes>"
      ]
     },
     "metadata": {
      "needs_background": "light"
     },
     "output_type": "display_data"
    }
   ],
   "source": [
    "# Set training parameters\n",
    "epochs = 20\n",
    "\n",
    "# Train the model\n",
    "history = model.fit(train_data, \n",
    "                    validation_data=test_data, \n",
    "                    epochs=epochs)\n",
    "\n",
    "# Optional: Plotting training history\n",
    "import matplotlib.pyplot as plt\n",
    "\n",
    "# Plot loss and validation loss\n",
    "plt.plot(history.history['loss'], label='Training Loss')\n",
    "plt.plot(history.history['val_loss'], label='Validation Loss')\n",
    "plt.xlabel('Epoch')\n",
    "plt.ylabel('Loss')\n",
    "plt.legend()\n",
    "plt.show()\n"
   ]
  },
  {
   "cell_type": "code",
   "execution_count": 48,
   "metadata": {},
   "outputs": [
    {
     "name": "stdout",
     "output_type": "stream",
     "text": [
      "\u001b[1m1/1\u001b[0m \u001b[32m━━━━━━━━━━━━━━━━━━━━\u001b[0m\u001b[37m\u001b[0m \u001b[1m0s\u001b[0m 11ms/step\n",
      "Sample Comparisons (Predicted vs True):\n",
      "\n",
      "Sample 29:\n",
      "Predicted -> [75.93515     0.46240932  1.1096538   0.54994076]\n",
      "True      -> [74.          0.32543478  0.96304629  0.93024229]\n",
      "------------------------------\n",
      "Sample 7:\n",
      "Predicted -> [6.9284668e+01 4.4017032e-01 8.8737011e-03 5.9876955e-01]\n",
      "True      -> [64.          0.5463529  -0.47132739  0.07351903]\n",
      "------------------------------\n",
      "Sample 5:\n",
      "Predicted -> [72.26279     0.4420906   0.35749042  0.560473  ]\n",
      "True      -> [73.          0.47482923  0.22119026  0.39292454]\n",
      "------------------------------\n",
      "Sample 1:\n",
      "Predicted -> [24.02546     0.44734767  0.40792617  0.57101864]\n",
      "True      -> [25.          0.75540607 -0.15596034  0.38312163]\n",
      "------------------------------\n",
      "Sample 28:\n",
      "Predicted -> [37.63916     0.44675845 -0.17172176  0.5591159 ]\n",
      "True      -> [35.          0.23221757 -0.54615843  0.3104432 ]\n",
      "------------------------------\n"
     ]
    }
   ],
   "source": [
    "import numpy as np\n",
    "\n",
    "# Number of samples to display for comparison\n",
    "num_samples = 5\n",
    "\n",
    "# Take a batch from the test set\n",
    "for test_features, test_labels in test_data.take(1):\n",
    "    # Make predictions on the batch\n",
    "    predictions = model.predict(test_features)\n",
    "\n",
    "    # Randomly select a few samples for comparison\n",
    "    indices = np.random.choice(range(len(test_features)), num_samples, replace=False)\n",
    "    print(\"Sample Comparisons (Predicted vs True):\\n\")\n",
    "    \n",
    "    for i in indices:\n",
    "        print(f\"Sample {i + 1}:\")\n",
    "        print(\"Predicted ->\", predictions[i])\n",
    "        print(\"True      ->\", test_labels[i].numpy())\n",
    "        print(\"-\" * 30)"
   ]
  },
  {
   "cell_type": "code",
   "execution_count": 49,
   "metadata": {},
   "outputs": [],
   "source": [
    "# Save the model in the .keras format\n",
    "model_name = 'ALL_REGRESSION_128_512_CONV3D_256_20EPOCHS'\n",
    "\n",
    "model.save(model_name+'.keras')\n",
    "\n",
    "import json\n",
    "\n",
    "# Save the training history\n",
    "with open(model_name+'.json', 'w') as f:\n",
    "    json.dump(history.history, f)\n",
    "\n",
    "\n",
    "# To later load doing:\n",
    "# from tensorflow.keras.models import load_model\n",
    "# model = load_model('my_model.keras')\n",
    "\n",
    "# with open('training_history.json', 'r') as f:\n",
    "#     history_data = json.load(f)"
   ]
  },
  {
   "cell_type": "code",
   "execution_count": 54,
   "metadata": {},
   "outputs": [
    {
     "data": {
      "text/plain": [
       "'sequential_3'"
      ]
     },
     "execution_count": 54,
     "metadata": {},
     "output_type": "execute_result"
    }
   ],
   "source": [
    "model.name"
   ]
  },
  {
   "cell_type": "code",
   "execution_count": null,
   "metadata": {},
   "outputs": [],
   "source": []
  }
 ],
 "metadata": {
  "kernelspec": {
   "display_name": "venv",
   "language": "python",
   "name": "python3"
  },
  "language_info": {
   "codemirror_mode": {
    "name": "ipython",
    "version": 3
   },
   "file_extension": ".py",
   "mimetype": "text/x-python",
   "name": "python",
   "nbconvert_exporter": "python",
   "pygments_lexer": "ipython3",
   "version": "3.10.12"
  }
 },
 "nbformat": 4,
 "nbformat_minor": 2
}
