{
 "cells": [
  {
   "cell_type": "code",
   "execution_count": 8,
   "metadata": {},
   "outputs": [
    {
     "name": "stdout",
     "output_type": "stream",
     "text": [
      "Total data size: 7999973\n",
      "Sampled data size (10%): 80000\n",
      "Training set size: 64000\n",
      "Test set size: 16000\n"
     ]
    }
   ],
   "source": [
    "import pandas as pd\n",
    "import glob\n",
    "import tensorflow as tf\n",
    "\n",
    "# Define the path where your CSV files are located\n",
    "csv_files_path = '../csv_files/*.csv'\n",
    "\n",
    "# Load and concatenate all CSV files\n",
    "all_data = pd.concat((pd.read_csv(file) for file in glob.glob(csv_files_path)), ignore_index=True)\n",
    "\n",
    "# Randomly sample 1% of the data\n",
    "sampled_data = all_data.sample(frac=0.01, random_state=42)\n",
    "\n",
    "# Save the 10% sample to a CSV file to reuse for consistent comparisons\n",
    "sampled_data.to_csv('sampled_data_10_percent.csv', index=False)\n",
    "\n",
    "# Convert to TensorFlow datasets and split into train and test sets\n",
    "sampled_data = tf.data.Dataset.from_tensor_slices(dict(sampled_data))\n",
    "\n",
    "# Define the split ratio (80% train, 20% test)\n",
    "train_size = int(0.8 * len(sampled_data))\n",
    "train_data = sampled_data.take(train_size)\n",
    "test_data = sampled_data.skip(train_size)\n",
    "\n",
    "# Print dataset sizes to confirm\n",
    "print(f\"Total data size: {len(all_data)}\")\n",
    "print(f\"Sampled data size (10%): {len(sampled_data)}\")\n",
    "print(f\"Training set size: {len(train_data)}\")\n",
    "print(f\"Test set size: {len(test_data)}\")\n"
   ]
  },
  {
   "cell_type": "code",
   "execution_count": 6,
   "metadata": {},
   "outputs": [
    {
     "name": "stdout",
     "output_type": "stream",
     "text": [
      "Current working directory: /home/diego2/fem/Accelerated Contact Detection\n"
     ]
    }
   ],
   "source": [
    "import os\n",
    "print(\"Current working directory:\", os.getcwd())\n"
   ]
  },
  {
   "cell_type": "code",
   "execution_count": null,
   "metadata": {},
   "outputs": [],
   "source": []
  }
 ],
 "metadata": {
  "kernelspec": {
   "display_name": "venv",
   "language": "python",
   "name": "python3"
  },
  "language_info": {
   "codemirror_mode": {
    "name": "ipython",
    "version": 3
   },
   "file_extension": ".py",
   "mimetype": "text/x-python",
   "name": "python",
   "nbconvert_exporter": "python",
   "pygments_lexer": "ipython3",
   "version": "3.10.12"
  }
 },
 "nbformat": 4,
 "nbformat_minor": 2
}
